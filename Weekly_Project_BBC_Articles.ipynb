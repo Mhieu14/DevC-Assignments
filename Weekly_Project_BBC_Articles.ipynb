{
 "cells": [
  {
   "cell_type": "markdown",
   "metadata": {
    "id": "s8btHNo7H5Cf"
   },
   "source": [
    "# Organize ML projects with Scikit-Learn"
   ]
  },
  {
   "cell_type": "markdown",
   "metadata": {
    "id": "8yK9CuWlH5Ch"
   },
   "source": [
    "While Machine Learning is powerful, people often overestimate it: apply machine learning to your project, and all your problems will be solved. In reality, it's not this simple. To be effective, one needs to organize the work very well. In this notebook, we will walkthrough practical aspects of a ML project. To look at the big picture, let's start with a checklist below. It should work reasonably well for most ML projects, but make sure to adapt it to your needs:\n",
    "\n",
    "1. **Define the scope of work and objective**\n",
    "    * How is your solution be used?\n",
    "    * How should performance be measured? Are there any contraints?\n",
    "    * How would the problem be solved manually?\n",
    "    * List the available assumptions, and verify if possible.\n",
    "    \n",
    "    \n",
    "2. **Get the data**\n",
    "    * Document where you can get that data\n",
    "    * Store data in a workspace you can easily access\n",
    "    * Convert the data to a format you can easily manipulate\n",
    "    * Check the overview (size, type, sample, description, statistics)\n",
    "    * Data cleaning\n",
    "    \n",
    "    \n",
    "3. **EDA & Data transformation**\n",
    "    * Study each attribute and its characteristics (missing values, type of distribution, usefulness)\n",
    "    * Visualize the data\n",
    "    * Study the correlations between attributes\n",
    "    * Feature selection, Feature Engineering, Feature scaling\n",
    "    * Write functions for all data transformations\n",
    "    \n",
    "    \n",
    "4. **Train models**\n",
    "    * Automate as much as possible\n",
    "    * Train promising models quickly using standard parameters. Measure and compare their performance\n",
    "    * Analyze the errors the models make\n",
    "    * Shortlist the top three of five most promising models, preferring models that make different types of errors.\n",
    "\n",
    "\n",
    "5. **Fine-tunning**\n",
    "    * Treat data transformation choices as hyperparameters, expecially when you are not sure about them (e.g., replace missing values with zeros or with the median value)\n",
    "    * Unless there are very few hyperparameter value to explore, prefer random search over grid search.\n",
    "    * Try ensemble methods\n",
    "    * Test your final model on the test set to estimate the generalizaiton error. Don't tweak your model again, you would start overfitting the test set."
   ]
  },
  {
   "cell_type": "markdown",
   "metadata": {
    "id": "ofeuKevOH5Ch"
   },
   "source": [
    "## Example: Articles categorization"
   ]
  },
  {
   "cell_type": "markdown",
   "metadata": {
    "id": "m2NSUqUEH5Ci"
   },
   "source": [
    "### Objectives"
   ]
  },
  {
   "cell_type": "markdown",
   "metadata": {
    "id": "5GttlMG-H5Cj"
   },
   "source": [
    "Build a model to determine the categories of articles. "
   ]
  },
  {
   "cell_type": "markdown",
   "metadata": {
    "id": "EwbjWOG1H5Ck"
   },
   "source": [
    "### Get Data"
   ]
  },
  {
   "cell_type": "code",
   "execution_count": 1,
   "metadata": {
    "id": "iWq7xex_H5Ck"
   },
   "outputs": [],
   "source": [
    "import numpy as np\n",
    "import pandas as pd\n",
    "import seaborn as sns\n",
    "import matplotlib.pyplot as plt\n",
    "%matplotlib inline\n",
    "\n",
    "import warnings\n",
    "warnings.filterwarnings('ignore')\n",
    "\n",
    "sns.set_style(\"whitegrid\")"
   ]
  },
  {
   "cell_type": "code",
   "execution_count": 2,
   "metadata": {
    "id": "m9W7Hzt2H5Cp"
   },
   "outputs": [],
   "source": [
    "bbc = pd.read_csv('https://raw.githubusercontent.com/dhminh1024/practice_datasets/master/bbc-text.csv')"
   ]
  },
  {
   "cell_type": "code",
   "execution_count": 3,
   "metadata": {
    "colab": {
     "base_uri": "https://localhost:8080/",
     "height": 195
    },
    "id": "teb1QvD1H5Cs",
    "outputId": "94f2b72e-ef18-4940-f8ed-7f8491a85708"
   },
   "outputs": [
    {
     "data": {
      "text/html": [
       "<div>\n",
       "<style scoped>\n",
       "    .dataframe tbody tr th:only-of-type {\n",
       "        vertical-align: middle;\n",
       "    }\n",
       "\n",
       "    .dataframe tbody tr th {\n",
       "        vertical-align: top;\n",
       "    }\n",
       "\n",
       "    .dataframe thead th {\n",
       "        text-align: right;\n",
       "    }\n",
       "</style>\n",
       "<table border=\"1\" class=\"dataframe\">\n",
       "  <thead>\n",
       "    <tr style=\"text-align: right;\">\n",
       "      <th></th>\n",
       "      <th>category</th>\n",
       "      <th>text</th>\n",
       "    </tr>\n",
       "  </thead>\n",
       "  <tbody>\n",
       "    <tr>\n",
       "      <th>1957</th>\n",
       "      <td>sport</td>\n",
       "      <td>roddick in talks over new coach andy roddick i...</td>\n",
       "    </tr>\n",
       "    <tr>\n",
       "      <th>1240</th>\n",
       "      <td>tech</td>\n",
       "      <td>gadget growth fuels eco concerns technology fi...</td>\n",
       "    </tr>\n",
       "    <tr>\n",
       "      <th>478</th>\n",
       "      <td>entertainment</td>\n",
       "      <td>rap feud in 50 cent s g-unit crew us rap star ...</td>\n",
       "    </tr>\n",
       "    <tr>\n",
       "      <th>132</th>\n",
       "      <td>sport</td>\n",
       "      <td>wales get williams fitness boost wales are hop...</td>\n",
       "    </tr>\n",
       "    <tr>\n",
       "      <th>927</th>\n",
       "      <td>sport</td>\n",
       "      <td>wilkinson to lead england fly-half jonny wilki...</td>\n",
       "    </tr>\n",
       "  </tbody>\n",
       "</table>\n",
       "</div>"
      ],
      "text/plain": [
       "           category                                               text\n",
       "1957          sport  roddick in talks over new coach andy roddick i...\n",
       "1240           tech  gadget growth fuels eco concerns technology fi...\n",
       "478   entertainment  rap feud in 50 cent s g-unit crew us rap star ...\n",
       "132           sport  wales get williams fitness boost wales are hop...\n",
       "927           sport  wilkinson to lead england fly-half jonny wilki..."
      ]
     },
     "execution_count": 3,
     "metadata": {},
     "output_type": "execute_result"
    }
   ],
   "source": [
    "bbc.sample(5)"
   ]
  },
  {
   "cell_type": "code",
   "execution_count": 4,
   "metadata": {
    "colab": {
     "base_uri": "https://localhost:8080/",
     "height": 168
    },
    "id": "KBW_Sg2RH5Cy",
    "outputId": "2a4d5f05-fff6-41d1-ff4f-47c267f99f68"
   },
   "outputs": [
    {
     "name": "stdout",
     "output_type": "stream",
     "text": [
      "<class 'pandas.core.frame.DataFrame'>\n",
      "RangeIndex: 2225 entries, 0 to 2224\n",
      "Data columns (total 2 columns):\n",
      " #   Column    Non-Null Count  Dtype \n",
      "---  ------    --------------  ----- \n",
      " 0   category  2225 non-null   object\n",
      " 1   text      2225 non-null   object\n",
      "dtypes: object(2)\n",
      "memory usage: 34.9+ KB\n"
     ]
    }
   ],
   "source": [
    "bbc.info()"
   ]
  },
  {
   "cell_type": "markdown",
   "metadata": {
    "id": "gDhInqZa-TsH"
   },
   "source": [
    "### EDA & Data transformation"
   ]
  },
  {
   "cell_type": "code",
   "execution_count": 5,
   "metadata": {
    "id": "dh3VRY5Zxmw6"
   },
   "outputs": [],
   "source": [
    "# Your code here\n",
    "from sklearn.model_selection import train_test_split\n",
    "\n",
    "train, test = train_test_split(bbc, test_size=0.2)"
   ]
  },
  {
   "cell_type": "code",
   "execution_count": 6,
   "metadata": {
    "colab": {
     "base_uri": "https://localhost:8080/",
     "height": 34
    },
    "id": "SLvglfnM-pJs",
    "outputId": "8d95dacd-e6bc-4595-c91a-9f877d472b1e"
   },
   "outputs": [
    {
     "name": "stdout",
     "output_type": "stream",
     "text": [
      "total record: 2225\n"
     ]
    }
   ],
   "source": [
    "print(\"total record:\", len(bbc.index))"
   ]
  },
  {
   "cell_type": "code",
   "execution_count": 7,
   "metadata": {
    "colab": {
     "base_uri": "https://localhost:8080/",
     "height": 296
    },
    "id": "IRGmNuFRWKTR",
    "outputId": "9a84edcc-df0a-411a-e054-4728fe22c812"
   },
   "outputs": [
    {
     "data": {
      "text/plain": [
       "<AxesSubplot:xlabel='category', ylabel='count'>"
      ]
     },
     "execution_count": 7,
     "metadata": {},
     "output_type": "execute_result"
    },
    {
     "data": {
      "image/png": "[encoded data removed]",
      "text/plain": [
       "<Figure size 432x288 with 1 Axes>"
      ]
     },
     "metadata": {},
     "output_type": "display_data"
    }
   ],
   "source": [
    "sns.countplot(bbc[\"category\"])"
   ]
  },
  {
   "cell_type": "code",
   "execution_count": 8,
   "metadata": {
    "id": "QH3RZLrFYHJr"
   },
   "outputs": [],
   "source": [
    "from nltk.stem import PorterStemmer\n",
    "porter = PorterStemmer()\n",
    "\n",
    "def tokenizer_porter(text):\n",
    "  return [porter.stem(word) for word in text.split()]"
   ]
  },
  {
   "cell_type": "code",
   "execution_count": 9,
   "metadata": {
    "colab": {
     "base_uri": "https://localhost:8080/",
     "height": 50
    },
    "id": "dmqyZwE7cSzK",
    "outputId": "6d06cf06-494d-4255-8da4-182aad5d3439"
   },
   "outputs": [
    {
     "name": "stderr",
     "output_type": "stream",
     "text": [
      "[nltk_data] Downloading package stopwords to\n",
      "[nltk_data]     /home/minhieu/nltk_data...\n",
      "[nltk_data]   Package stopwords is already up-to-date!\n"
     ]
    }
   ],
   "source": [
    "import nltk\n",
    "from nltk.corpus import stopwords\n",
    "\n",
    "nltk.download('stopwords')\n",
    "stop = stopwords.words('english')"
   ]
  },
  {
   "cell_type": "code",
   "execution_count": 10,
   "metadata": {
    "id": "dv1m4Vhhiaf0"
   },
   "outputs": [],
   "source": [
    "import re\n",
    "def remove_non_word(text):\n",
    "   emoticons = re.findall('(?::|;|=)(?:-)?(?:\\)|\\(|D|P)', text)\n",
    "   text = (re.sub('[\\W]+', ' ', text.lower()) + ' ' + ' '.join(emoticons).replace('-', ''))\n",
    "   return text"
   ]
  },
  {
   "cell_type": "markdown",
   "metadata": {
    "id": "i9qkEKCYOGCS"
   },
   "source": [
    "### Train models"
   ]
  },
  {
   "cell_type": "code",
   "execution_count": 11,
   "metadata": {
    "id": "GHF1--SVAutb"
   },
   "outputs": [],
   "source": [
    "from sklearn.pipeline import Pipeline\n",
    "from sklearn.linear_model import LogisticRegression\n",
    "from sklearn.feature_extraction.text import TfidfVectorizer\n",
    "\n",
    "tfidf = TfidfVectorizer(stop_words=stop,\n",
    "                        tokenizer=tokenizer_porter,\n",
    "                        preprocessor=remove_non_word)"
   ]
  },
  {
   "cell_type": "code",
   "execution_count": 12,
   "metadata": {
    "colab": {
     "base_uri": "https://localhost:8080/",
     "height": 218
    },
    "id": "byoWJBT54biT",
    "outputId": "20039983-545d-488a-bd6c-3f8911689710"
   },
   "outputs": [
    {
     "data": {
      "text/plain": [
       "0       tv future in the hands of viewers with home th...\n",
       "1       worldcom boss  left books alone  former worldc...\n",
       "2       tigers wary of farrell  gamble  leicester say ...\n",
       "3       yeading face newcastle in fa cup premiership s...\n",
       "4       ocean s twelve raids box office ocean s twelve...\n",
       "                              ...                        \n",
       "2220    cars pull down us retail figures us retail sal...\n",
       "2221    kilroy unveils immigration policy ex-chatshow ...\n",
       "2222    rem announce new glasgow concert us band rem h...\n",
       "2223    how political squabbles snowball it s become c...\n",
       "2224    souness delight at euro progress boss graeme s...\n",
       "Name: text, Length: 2225, dtype: object"
      ]
     },
     "execution_count": 12,
     "metadata": {},
     "output_type": "execute_result"
    }
   ],
   "source": [
    "bbc[\"text\"]"
   ]
  },
  {
   "cell_type": "code",
   "execution_count": 13,
   "metadata": {
    "id": "rgm_egxxAW-t"
   },
   "outputs": [],
   "source": [
    "logistic  = LogisticRegression(random_state=0)"
   ]
  },
  {
   "cell_type": "code",
   "execution_count": 14,
   "metadata": {
    "colab": {
     "base_uri": "https://localhost:8080/",
     "height": 403
    },
    "id": "3AZ06blaBSxP",
    "outputId": "16899227-19b5-44b2-a287-ad2394435dc5"
   },
   "outputs": [
    {
     "data": {
      "text/plain": [
       "Pipeline(steps=[('vect',\n",
       "                 TfidfVectorizer(preprocessor=<function remove_non_word at 0x7f2831503a60>,\n",
       "                                 stop_words=['i', 'me', 'my', 'myself', 'we',\n",
       "                                             'our', 'ours', 'ourselves', 'you',\n",
       "                                             \"you're\", \"you've\", \"you'll\",\n",
       "                                             \"you'd\", 'your', 'yours',\n",
       "                                             'yourself', 'yourselves', 'he',\n",
       "                                             'him', 'his', 'himself', 'she',\n",
       "                                             \"she's\", 'her', 'hers', 'herself',\n",
       "                                             'it', \"it's\", 'its', 'itself', ...],\n",
       "                                 tokenizer=<function tokenizer_porter at 0x7f28341c5550>)),\n",
       "                ('logistic', LogisticRegression(random_state=0))])"
      ]
     },
     "execution_count": 14,
     "metadata": {},
     "output_type": "execute_result"
    }
   ],
   "source": [
    "pipeline = Pipeline(steps=[('vect', tfidf),\n",
    "                ('logistic', logistic)])\n",
    "pipeline.fit(train[\"text\"], train[\"category\"])"
   ]
  },
  {
   "cell_type": "code",
   "execution_count": 15,
   "metadata": {
    "colab": {
     "base_uri": "https://localhost:8080/",
     "height": 402
    },
    "id": "PPLcQnIrGA10",
    "outputId": "d3265da9-82bc-410c-9d81-4beb778543e9"
   },
   "outputs": [
    {
     "data": {
      "text/html": [
       "<div>\n",
       "<style scoped>\n",
       "    .dataframe tbody tr th:only-of-type {\n",
       "        vertical-align: middle;\n",
       "    }\n",
       "\n",
       "    .dataframe tbody tr th {\n",
       "        vertical-align: top;\n",
       "    }\n",
       "\n",
       "    .dataframe thead th {\n",
       "        text-align: right;\n",
       "    }\n",
       "</style>\n",
       "<table border=\"1\" class=\"dataframe\">\n",
       "  <thead>\n",
       "    <tr style=\"text-align: right;\">\n",
       "      <th></th>\n",
       "      <th>text</th>\n",
       "      <th>category</th>\n",
       "      <th>Predict</th>\n",
       "      <th>business</th>\n",
       "      <th>entertainment</th>\n",
       "      <th>politics</th>\n",
       "      <th>sport</th>\n",
       "      <th>tech</th>\n",
       "    </tr>\n",
       "  </thead>\n",
       "  <tbody>\n",
       "    <tr>\n",
       "      <th>0</th>\n",
       "      <td>us interest rates increased to 2% us interest ...</td>\n",
       "      <td>business</td>\n",
       "      <td>business</td>\n",
       "      <td>0.961442</td>\n",
       "      <td>0.007894</td>\n",
       "      <td>0.009090</td>\n",
       "      <td>0.011239</td>\n",
       "      <td>0.010334</td>\n",
       "    </tr>\n",
       "    <tr>\n",
       "      <th>1</th>\n",
       "      <td>howard and blair tax pledge clash tony blair h...</td>\n",
       "      <td>politics</td>\n",
       "      <td>politics</td>\n",
       "      <td>0.008783</td>\n",
       "      <td>0.002792</td>\n",
       "      <td>0.983496</td>\n",
       "      <td>0.002484</td>\n",
       "      <td>0.002445</td>\n",
       "    </tr>\n",
       "    <tr>\n",
       "      <th>2</th>\n",
       "      <td>soros group warns of kazakh close the open soc...</td>\n",
       "      <td>business</td>\n",
       "      <td>business</td>\n",
       "      <td>0.373509</td>\n",
       "      <td>0.148785</td>\n",
       "      <td>0.242338</td>\n",
       "      <td>0.116593</td>\n",
       "      <td>0.118774</td>\n",
       "    </tr>\n",
       "    <tr>\n",
       "      <th>3</th>\n",
       "      <td>blair defends terror law changes the prime min...</td>\n",
       "      <td>politics</td>\n",
       "      <td>politics</td>\n",
       "      <td>0.006823</td>\n",
       "      <td>0.006192</td>\n",
       "      <td>0.971711</td>\n",
       "      <td>0.005703</td>\n",
       "      <td>0.009571</td>\n",
       "    </tr>\n",
       "    <tr>\n",
       "      <th>4</th>\n",
       "      <td>rings of steel combat net attacks gambling is ...</td>\n",
       "      <td>tech</td>\n",
       "      <td>tech</td>\n",
       "      <td>0.048929</td>\n",
       "      <td>0.029801</td>\n",
       "      <td>0.069884</td>\n",
       "      <td>0.028032</td>\n",
       "      <td>0.823354</td>\n",
       "    </tr>\n",
       "    <tr>\n",
       "      <th>...</th>\n",
       "      <td>...</td>\n",
       "      <td>...</td>\n",
       "      <td>...</td>\n",
       "      <td>...</td>\n",
       "      <td>...</td>\n",
       "      <td>...</td>\n",
       "      <td>...</td>\n",
       "      <td>...</td>\n",
       "    </tr>\n",
       "    <tr>\n",
       "      <th>440</th>\n",
       "      <td>howard attacks  pay later  budget tory leader ...</td>\n",
       "      <td>politics</td>\n",
       "      <td>politics</td>\n",
       "      <td>0.022572</td>\n",
       "      <td>0.008461</td>\n",
       "      <td>0.953388</td>\n",
       "      <td>0.006511</td>\n",
       "      <td>0.009068</td>\n",
       "    </tr>\n",
       "    <tr>\n",
       "      <th>441</th>\n",
       "      <td>us insurer marsh cuts 2 500 jobs up to 2 500 j...</td>\n",
       "      <td>business</td>\n",
       "      <td>business</td>\n",
       "      <td>0.908349</td>\n",
       "      <td>0.021093</td>\n",
       "      <td>0.027764</td>\n",
       "      <td>0.019722</td>\n",
       "      <td>0.023072</td>\n",
       "    </tr>\n",
       "    <tr>\n",
       "      <th>442</th>\n",
       "      <td>safin relieved at aussie recovery marat safin ...</td>\n",
       "      <td>sport</td>\n",
       "      <td>sport</td>\n",
       "      <td>0.022502</td>\n",
       "      <td>0.026503</td>\n",
       "      <td>0.016351</td>\n",
       "      <td>0.907125</td>\n",
       "      <td>0.027519</td>\n",
       "    </tr>\n",
       "    <tr>\n",
       "      <th>443</th>\n",
       "      <td>moya emotional at davis cup win carlos moya de...</td>\n",
       "      <td>sport</td>\n",
       "      <td>sport</td>\n",
       "      <td>0.018405</td>\n",
       "      <td>0.035914</td>\n",
       "      <td>0.019324</td>\n",
       "      <td>0.904824</td>\n",
       "      <td>0.021533</td>\n",
       "    </tr>\n",
       "    <tr>\n",
       "      <th>444</th>\n",
       "      <td>crisis  ahead in social sciences  a national b...</td>\n",
       "      <td>politics</td>\n",
       "      <td>politics</td>\n",
       "      <td>0.197026</td>\n",
       "      <td>0.112423</td>\n",
       "      <td>0.430555</td>\n",
       "      <td>0.109022</td>\n",
       "      <td>0.150974</td>\n",
       "    </tr>\n",
       "  </tbody>\n",
       "</table>\n",
       "<p>445 rows × 8 columns</p>\n",
       "</div>"
      ],
      "text/plain": [
       "                                                  text  category   Predict  \\\n",
       "0    us interest rates increased to 2% us interest ...  business  business   \n",
       "1    howard and blair tax pledge clash tony blair h...  politics  politics   \n",
       "2    soros group warns of kazakh close the open soc...  business  business   \n",
       "3    blair defends terror law changes the prime min...  politics  politics   \n",
       "4    rings of steel combat net attacks gambling is ...      tech      tech   \n",
       "..                                                 ...       ...       ...   \n",
       "440  howard attacks  pay later  budget tory leader ...  politics  politics   \n",
       "441  us insurer marsh cuts 2 500 jobs up to 2 500 j...  business  business   \n",
       "442  safin relieved at aussie recovery marat safin ...     sport     sport   \n",
       "443  moya emotional at davis cup win carlos moya de...     sport     sport   \n",
       "444  crisis  ahead in social sciences  a national b...  politics  politics   \n",
       "\n",
       "     business  entertainment  politics     sport      tech  \n",
       "0    0.961442       0.007894  0.009090  0.011239  0.010334  \n",
       "1    0.008783       0.002792  0.983496  0.002484  0.002445  \n",
       "2    0.373509       0.148785  0.242338  0.116593  0.118774  \n",
       "3    0.006823       0.006192  0.971711  0.005703  0.009571  \n",
       "4    0.048929       0.029801  0.069884  0.028032  0.823354  \n",
       "..        ...            ...       ...       ...       ...  \n",
       "440  0.022572       0.008461  0.953388  0.006511  0.009068  \n",
       "441  0.908349       0.021093  0.027764  0.019722  0.023072  \n",
       "442  0.022502       0.026503  0.016351  0.907125  0.027519  \n",
       "443  0.018405       0.035914  0.019324  0.904824  0.021533  \n",
       "444  0.197026       0.112423  0.430555  0.109022  0.150974  \n",
       "\n",
       "[445 rows x 8 columns]"
      ]
     },
     "execution_count": 15,
     "metadata": {},
     "output_type": "execute_result"
    }
   ],
   "source": [
    "p_predict = pipeline.predict_proba(test[\"text\"])\n",
    "f_predict = pipeline.predict(test[\"text\"])\n",
    "p_predict = pd.DataFrame(p_predict).reindex().rename(columns={0: \"business\",1: \"entertainment\",2: \"politics\",3: \"sport\",4: \"tech\"}, errors=\"raise\")\n",
    "f_predict = pd.DataFrame(f_predict).rename(columns={0: \"Predict\"}, errors=\"raise\")\n",
    "predict = pd.concat([test[\"text\"].reset_index(), test[\"category\"].reset_index(),f_predict.reindex(),p_predict], axis=1)\n",
    "predict.drop(\"index\", axis=1)"
   ]
  },
  {
   "cell_type": "markdown",
   "metadata": {
    "id": "KiQ8h2x1GuVh"
   },
   "source": [
    "### Evaluate Model"
   ]
  },
  {
   "cell_type": "code",
   "execution_count": 16,
   "metadata": {
    "colab": {
     "base_uri": "https://localhost:8080/",
     "height": 353
    },
    "id": "A1CbKNPaGttk",
    "outputId": "737ed09e-0b3f-43e4-8c65-aa447b640cca"
   },
   "outputs": [
    {
     "name": "stdout",
     "output_type": "stream",
     "text": [
      "accuracy: 0.9820224719101124\n",
      "confusion matrix:\n",
      " [[107   0   5   0   0]\n",
      " [  0  68   0   0   0]\n",
      " [  1   1  75   1   0]\n",
      " [  0   0   0 106   0]\n",
      " [  0   0   0   0  81]]\n",
      "classification report:\n",
      "                precision    recall  f1-score   support\n",
      "\n",
      "     business       0.99      0.96      0.97       112\n",
      "entertainment       0.99      1.00      0.99        68\n",
      "     politics       0.94      0.96      0.95        78\n",
      "        sport       0.99      1.00      1.00       106\n",
      "         tech       1.00      1.00      1.00        81\n",
      "\n",
      "     accuracy                           0.98       445\n",
      "    macro avg       0.98      0.98      0.98       445\n",
      " weighted avg       0.98      0.98      0.98       445\n",
      "\n"
     ]
    }
   ],
   "source": [
    "# Using Test dataset to evaluate model\n",
    "# classification_report\n",
    "# confusion matrix\n",
    "from sklearn.metrics import accuracy_score, confusion_matrix, classification_report\n",
    "\n",
    "# Now apply those above metrics to evaluate your model\n",
    "# Your code here\n",
    "predictions = pipeline.predict(test[\"text\"])\n",
    "print('accuracy:',accuracy_score(test[\"category\"],predictions))\n",
    "print('confusion matrix:\\n',confusion_matrix(test[\"category\"],predictions))\n",
    "print('classification report:\\n',classification_report(test[\"category\"],predictions))"
   ]
  },
  {
   "cell_type": "markdown",
   "metadata": {
    "id": "FceW66WpPVMn"
   },
   "source": [
    "### Fine-tunning"
   ]
  },
  {
   "cell_type": "code",
   "execution_count": 17,
   "metadata": {
    "colab": {
     "base_uri": "https://localhost:8080/",
     "height": 554
    },
    "id": "fj_4yZtJPXoN",
    "outputId": "055a118e-5352-4ef8-fcc7-f2aae5018059"
   },
   "outputs": [
    {
     "data": {
      "text/plain": [
       "GridSearchCV(cv=5,\n",
       "             estimator=Pipeline(steps=[('vect',\n",
       "                                        TfidfVectorizer(preprocessor=<function remove_non_word at 0x7f2831503a60>,\n",
       "                                                        stop_words=['i', 'me',\n",
       "                                                                    'my',\n",
       "                                                                    'myself',\n",
       "                                                                    'we', 'our',\n",
       "                                                                    'ours',\n",
       "                                                                    'ourselves',\n",
       "                                                                    'you',\n",
       "                                                                    \"you're\",\n",
       "                                                                    \"you've\",\n",
       "                                                                    \"you'll\",\n",
       "                                                                    \"you'd\",\n",
       "                                                                    'your',\n",
       "                                                                    'yours',\n",
       "                                                                    'yourself',\n",
       "                                                                    'yourselves',\n",
       "                                                                    'he', 'him',\n",
       "                                                                    'his',\n",
       "                                                                    'himself',\n",
       "                                                                    'she',\n",
       "                                                                    \"she's\",\n",
       "                                                                    'her',\n",
       "                                                                    'hers',\n",
       "                                                                    'herself',\n",
       "                                                                    'it',\n",
       "                                                                    \"it's\",\n",
       "                                                                    'its',\n",
       "                                                                    'itself', ...],\n",
       "                                                        tokenizer=<function tokenizer_porter at 0x7f28341c5550>)),\n",
       "                                       ('logistic',\n",
       "                                        LogisticRegression(random_state=0))]),\n",
       "             n_jobs=-1,\n",
       "             param_grid={'logistic__C': [0.001, 0.01, 0.1, 1, 10, 100, 1000],\n",
       "                         'logistic__penalty': ['l2', 'l1', 'elasticnet']},\n",
       "             scoring='accuracy')"
      ]
     },
     "execution_count": 17,
     "metadata": {},
     "output_type": "execute_result"
    }
   ],
   "source": [
    "from sklearn.model_selection import GridSearchCV\n",
    "parameters = {'logistic__C': [0.001, 0.01, 0.1, 1, 10, 100, 1000],\n",
    "              'logistic__penalty':['l2', 'l1', 'elasticnet']}\n",
    "\n",
    "gridsearch_models = GridSearchCV(pipeline,\n",
    "                                 parameters,\n",
    "                                 scoring='accuracy',\n",
    "                                 cv=5, n_jobs=-1)\n",
    "\n",
    "gridsearch_models.fit(train[\"text\"], train[\"category\"])"
   ]
  },
  {
   "cell_type": "code",
   "execution_count": 18,
   "metadata": {
    "colab": {
     "base_uri": "https://localhost:8080/",
     "height": 50
    },
    "id": "__gTyZ4l6Z_X",
    "outputId": "4c1b2c8b-397d-4fe2-e611-7e9f27d994af"
   },
   "outputs": [
    {
     "name": "stdout",
     "output_type": "stream",
     "text": [
      "Best params {'logistic__C': 10, 'logistic__penalty': 'l2'}\n",
      "Best score 0.9775280898876403\n"
     ]
    }
   ],
   "source": [
    "print('Best params', gridsearch_models.best_params_)\n",
    "print('Best score', gridsearch_models.best_score_)"
   ]
  },
  {
   "cell_type": "code",
   "execution_count": 19,
   "metadata": {
    "id": "Hkn40OzKUGuZ"
   },
   "outputs": [],
   "source": [
    "best_model = gridsearch_models.best_estimator_"
   ]
  },
  {
   "cell_type": "code",
   "execution_count": 20,
   "metadata": {
    "colab": {
     "base_uri": "https://localhost:8080/",
     "height": 402
    },
    "id": "Sn0-TRqBUKYm",
    "outputId": "4397f4ef-89e6-4b02-bca6-1dd8b9fb07b7"
   },
   "outputs": [
    {
     "data": {
      "text/html": [
       "<div>\n",
       "<style scoped>\n",
       "    .dataframe tbody tr th:only-of-type {\n",
       "        vertical-align: middle;\n",
       "    }\n",
       "\n",
       "    .dataframe tbody tr th {\n",
       "        vertical-align: top;\n",
       "    }\n",
       "\n",
       "    .dataframe thead th {\n",
       "        text-align: right;\n",
       "    }\n",
       "</style>\n",
       "<table border=\"1\" class=\"dataframe\">\n",
       "  <thead>\n",
       "    <tr style=\"text-align: right;\">\n",
       "      <th></th>\n",
       "      <th>text</th>\n",
       "      <th>category</th>\n",
       "      <th>Predict</th>\n",
       "      <th>business</th>\n",
       "      <th>entertainment</th>\n",
       "      <th>politics</th>\n",
       "      <th>sport</th>\n",
       "      <th>tech</th>\n",
       "    </tr>\n",
       "  </thead>\n",
       "  <tbody>\n",
       "    <tr>\n",
       "      <th>0</th>\n",
       "      <td>us interest rates increased to 2% us interest ...</td>\n",
       "      <td>business</td>\n",
       "      <td>business</td>\n",
       "      <td>0.998307</td>\n",
       "      <td>0.000321</td>\n",
       "      <td>0.000337</td>\n",
       "      <td>0.000549</td>\n",
       "      <td>0.000486</td>\n",
       "    </tr>\n",
       "    <tr>\n",
       "      <th>1</th>\n",
       "      <td>howard and blair tax pledge clash tony blair h...</td>\n",
       "      <td>politics</td>\n",
       "      <td>politics</td>\n",
       "      <td>0.000448</td>\n",
       "      <td>0.000079</td>\n",
       "      <td>0.999348</td>\n",
       "      <td>0.000063</td>\n",
       "      <td>0.000063</td>\n",
       "    </tr>\n",
       "    <tr>\n",
       "      <th>2</th>\n",
       "      <td>soros group warns of kazakh close the open soc...</td>\n",
       "      <td>business</td>\n",
       "      <td>business</td>\n",
       "      <td>0.521761</td>\n",
       "      <td>0.112962</td>\n",
       "      <td>0.229550</td>\n",
       "      <td>0.064475</td>\n",
       "      <td>0.071252</td>\n",
       "    </tr>\n",
       "    <tr>\n",
       "      <th>3</th>\n",
       "      <td>blair defends terror law changes the prime min...</td>\n",
       "      <td>politics</td>\n",
       "      <td>politics</td>\n",
       "      <td>0.000175</td>\n",
       "      <td>0.000214</td>\n",
       "      <td>0.999008</td>\n",
       "      <td>0.000159</td>\n",
       "      <td>0.000444</td>\n",
       "    </tr>\n",
       "    <tr>\n",
       "      <th>4</th>\n",
       "      <td>rings of steel combat net attacks gambling is ...</td>\n",
       "      <td>tech</td>\n",
       "      <td>tech</td>\n",
       "      <td>0.005688</td>\n",
       "      <td>0.002775</td>\n",
       "      <td>0.015050</td>\n",
       "      <td>0.002258</td>\n",
       "      <td>0.974228</td>\n",
       "    </tr>\n",
       "    <tr>\n",
       "      <th>...</th>\n",
       "      <td>...</td>\n",
       "      <td>...</td>\n",
       "      <td>...</td>\n",
       "      <td>...</td>\n",
       "      <td>...</td>\n",
       "      <td>...</td>\n",
       "      <td>...</td>\n",
       "      <td>...</td>\n",
       "    </tr>\n",
       "    <tr>\n",
       "      <th>440</th>\n",
       "      <td>howard attacks  pay later  budget tory leader ...</td>\n",
       "      <td>politics</td>\n",
       "      <td>politics</td>\n",
       "      <td>0.002617</td>\n",
       "      <td>0.000604</td>\n",
       "      <td>0.995768</td>\n",
       "      <td>0.000344</td>\n",
       "      <td>0.000668</td>\n",
       "    </tr>\n",
       "    <tr>\n",
       "      <th>441</th>\n",
       "      <td>us insurer marsh cuts 2 500 jobs up to 2 500 j...</td>\n",
       "      <td>business</td>\n",
       "      <td>business</td>\n",
       "      <td>0.993815</td>\n",
       "      <td>0.001264</td>\n",
       "      <td>0.002196</td>\n",
       "      <td>0.001087</td>\n",
       "      <td>0.001638</td>\n",
       "    </tr>\n",
       "    <tr>\n",
       "      <th>442</th>\n",
       "      <td>safin relieved at aussie recovery marat safin ...</td>\n",
       "      <td>sport</td>\n",
       "      <td>sport</td>\n",
       "      <td>0.001700</td>\n",
       "      <td>0.002701</td>\n",
       "      <td>0.001383</td>\n",
       "      <td>0.990834</td>\n",
       "      <td>0.003381</td>\n",
       "    </tr>\n",
       "    <tr>\n",
       "      <th>443</th>\n",
       "      <td>moya emotional at davis cup win carlos moya de...</td>\n",
       "      <td>sport</td>\n",
       "      <td>sport</td>\n",
       "      <td>0.001189</td>\n",
       "      <td>0.004047</td>\n",
       "      <td>0.001765</td>\n",
       "      <td>0.990957</td>\n",
       "      <td>0.002042</td>\n",
       "    </tr>\n",
       "    <tr>\n",
       "      <th>444</th>\n",
       "      <td>crisis  ahead in social sciences  a national b...</td>\n",
       "      <td>politics</td>\n",
       "      <td>politics</td>\n",
       "      <td>0.112319</td>\n",
       "      <td>0.061946</td>\n",
       "      <td>0.696473</td>\n",
       "      <td>0.047696</td>\n",
       "      <td>0.081566</td>\n",
       "    </tr>\n",
       "  </tbody>\n",
       "</table>\n",
       "<p>445 rows × 8 columns</p>\n",
       "</div>"
      ],
      "text/plain": [
       "                                                  text  category   Predict  \\\n",
       "0    us interest rates increased to 2% us interest ...  business  business   \n",
       "1    howard and blair tax pledge clash tony blair h...  politics  politics   \n",
       "2    soros group warns of kazakh close the open soc...  business  business   \n",
       "3    blair defends terror law changes the prime min...  politics  politics   \n",
       "4    rings of steel combat net attacks gambling is ...      tech      tech   \n",
       "..                                                 ...       ...       ...   \n",
       "440  howard attacks  pay later  budget tory leader ...  politics  politics   \n",
       "441  us insurer marsh cuts 2 500 jobs up to 2 500 j...  business  business   \n",
       "442  safin relieved at aussie recovery marat safin ...     sport     sport   \n",
       "443  moya emotional at davis cup win carlos moya de...     sport     sport   \n",
       "444  crisis  ahead in social sciences  a national b...  politics  politics   \n",
       "\n",
       "     business  entertainment  politics     sport      tech  \n",
       "0    0.998307       0.000321  0.000337  0.000549  0.000486  \n",
       "1    0.000448       0.000079  0.999348  0.000063  0.000063  \n",
       "2    0.521761       0.112962  0.229550  0.064475  0.071252  \n",
       "3    0.000175       0.000214  0.999008  0.000159  0.000444  \n",
       "4    0.005688       0.002775  0.015050  0.002258  0.974228  \n",
       "..        ...            ...       ...       ...       ...  \n",
       "440  0.002617       0.000604  0.995768  0.000344  0.000668  \n",
       "441  0.993815       0.001264  0.002196  0.001087  0.001638  \n",
       "442  0.001700       0.002701  0.001383  0.990834  0.003381  \n",
       "443  0.001189       0.004047  0.001765  0.990957  0.002042  \n",
       "444  0.112319       0.061946  0.696473  0.047696  0.081566  \n",
       "\n",
       "[445 rows x 8 columns]"
      ]
     },
     "execution_count": 20,
     "metadata": {},
     "output_type": "execute_result"
    }
   ],
   "source": [
    "p_predict = best_model.predict_proba(test[\"text\"])\n",
    "f_predict = best_model.predict(test[\"text\"])\n",
    "p_predict = pd.DataFrame(p_predict).reindex().rename(columns={0: \"business\",1: \"entertainment\",2: \"politics\",3: \"sport\",4: \"tech\"}, errors=\"raise\")\n",
    "f_predict = pd.DataFrame(f_predict).rename(columns={0: \"Predict\"}, errors=\"raise\")\n",
    "predict = pd.concat([test[\"text\"].reset_index(), test[\"category\"].reset_index(),f_predict.reindex(),p_predict], axis=1)\n",
    "predict.drop(\"index\", axis=1)"
   ]
  },
  {
   "cell_type": "code",
   "execution_count": 21,
   "metadata": {
    "colab": {
     "base_uri": "https://localhost:8080/",
     "height": 34
    },
    "id": "Cj2giiXOUqQF",
    "outputId": "a7d71a6c-987e-445f-e490-1f80b1ab528b"
   },
   "outputs": [
    {
     "name": "stdout",
     "output_type": "stream",
     "text": [
      "Accuracy Score: 0.9820224719101124\n"
     ]
    }
   ],
   "source": [
    "predictions = best_model.predict(test[\"text\"])\n",
    "print('Accuracy Score:', accuracy_score(test[\"category\"], predictions))"
   ]
  },
  {
   "cell_type": "markdown",
   "metadata": {
    "id": "iWggl-I8OonY"
   },
   "source": [
    "### Export models\n"
   ]
  },
  {
   "cell_type": "code",
   "execution_count": 22,
   "metadata": {
    "id": "TavkKrUUOuv-"
   },
   "outputs": [],
   "source": [
    "import pickle\n",
    "\n",
    "pickle.dump(best_model, open('logisticRegression.pkl', 'wb'))"
   ]
  },
  {
   "cell_type": "code",
   "execution_count": 23,
   "metadata": {
    "colab": {
     "base_uri": "https://localhost:8080/",
     "height": 402
    },
    "id": "e9hFMWSUO4yO",
    "outputId": "08106ef2-0518-42ec-81f0-5710323f0f3f"
   },
   "outputs": [
    {
     "data": {
      "text/html": [
       "<div>\n",
       "<style scoped>\n",
       "    .dataframe tbody tr th:only-of-type {\n",
       "        vertical-align: middle;\n",
       "    }\n",
       "\n",
       "    .dataframe tbody tr th {\n",
       "        vertical-align: top;\n",
       "    }\n",
       "\n",
       "    .dataframe thead th {\n",
       "        text-align: right;\n",
       "    }\n",
       "</style>\n",
       "<table border=\"1\" class=\"dataframe\">\n",
       "  <thead>\n",
       "    <tr style=\"text-align: right;\">\n",
       "      <th></th>\n",
       "      <th>text</th>\n",
       "      <th>category</th>\n",
       "      <th>Predict</th>\n",
       "      <th>business</th>\n",
       "      <th>entertainment</th>\n",
       "      <th>politics</th>\n",
       "      <th>sport</th>\n",
       "      <th>tech</th>\n",
       "    </tr>\n",
       "  </thead>\n",
       "  <tbody>\n",
       "    <tr>\n",
       "      <th>0</th>\n",
       "      <td>us interest rates increased to 2% us interest ...</td>\n",
       "      <td>business</td>\n",
       "      <td>business</td>\n",
       "      <td>0.961442</td>\n",
       "      <td>0.007894</td>\n",
       "      <td>0.009090</td>\n",
       "      <td>0.011239</td>\n",
       "      <td>0.010334</td>\n",
       "    </tr>\n",
       "    <tr>\n",
       "      <th>1</th>\n",
       "      <td>howard and blair tax pledge clash tony blair h...</td>\n",
       "      <td>politics</td>\n",
       "      <td>politics</td>\n",
       "      <td>0.008783</td>\n",
       "      <td>0.002792</td>\n",
       "      <td>0.983496</td>\n",
       "      <td>0.002484</td>\n",
       "      <td>0.002445</td>\n",
       "    </tr>\n",
       "    <tr>\n",
       "      <th>2</th>\n",
       "      <td>soros group warns of kazakh close the open soc...</td>\n",
       "      <td>business</td>\n",
       "      <td>business</td>\n",
       "      <td>0.373509</td>\n",
       "      <td>0.148785</td>\n",
       "      <td>0.242338</td>\n",
       "      <td>0.116593</td>\n",
       "      <td>0.118774</td>\n",
       "    </tr>\n",
       "    <tr>\n",
       "      <th>3</th>\n",
       "      <td>blair defends terror law changes the prime min...</td>\n",
       "      <td>politics</td>\n",
       "      <td>politics</td>\n",
       "      <td>0.006823</td>\n",
       "      <td>0.006192</td>\n",
       "      <td>0.971711</td>\n",
       "      <td>0.005703</td>\n",
       "      <td>0.009571</td>\n",
       "    </tr>\n",
       "    <tr>\n",
       "      <th>4</th>\n",
       "      <td>rings of steel combat net attacks gambling is ...</td>\n",
       "      <td>tech</td>\n",
       "      <td>tech</td>\n",
       "      <td>0.048929</td>\n",
       "      <td>0.029801</td>\n",
       "      <td>0.069884</td>\n",
       "      <td>0.028032</td>\n",
       "      <td>0.823354</td>\n",
       "    </tr>\n",
       "    <tr>\n",
       "      <th>...</th>\n",
       "      <td>...</td>\n",
       "      <td>...</td>\n",
       "      <td>...</td>\n",
       "      <td>...</td>\n",
       "      <td>...</td>\n",
       "      <td>...</td>\n",
       "      <td>...</td>\n",
       "      <td>...</td>\n",
       "    </tr>\n",
       "    <tr>\n",
       "      <th>440</th>\n",
       "      <td>howard attacks  pay later  budget tory leader ...</td>\n",
       "      <td>politics</td>\n",
       "      <td>politics</td>\n",
       "      <td>0.022572</td>\n",
       "      <td>0.008461</td>\n",
       "      <td>0.953388</td>\n",
       "      <td>0.006511</td>\n",
       "      <td>0.009068</td>\n",
       "    </tr>\n",
       "    <tr>\n",
       "      <th>441</th>\n",
       "      <td>us insurer marsh cuts 2 500 jobs up to 2 500 j...</td>\n",
       "      <td>business</td>\n",
       "      <td>business</td>\n",
       "      <td>0.908349</td>\n",
       "      <td>0.021093</td>\n",
       "      <td>0.027764</td>\n",
       "      <td>0.019722</td>\n",
       "      <td>0.023072</td>\n",
       "    </tr>\n",
       "    <tr>\n",
       "      <th>442</th>\n",
       "      <td>safin relieved at aussie recovery marat safin ...</td>\n",
       "      <td>sport</td>\n",
       "      <td>sport</td>\n",
       "      <td>0.022502</td>\n",
       "      <td>0.026503</td>\n",
       "      <td>0.016351</td>\n",
       "      <td>0.907125</td>\n",
       "      <td>0.027519</td>\n",
       "    </tr>\n",
       "    <tr>\n",
       "      <th>443</th>\n",
       "      <td>moya emotional at davis cup win carlos moya de...</td>\n",
       "      <td>sport</td>\n",
       "      <td>sport</td>\n",
       "      <td>0.018405</td>\n",
       "      <td>0.035914</td>\n",
       "      <td>0.019324</td>\n",
       "      <td>0.904824</td>\n",
       "      <td>0.021533</td>\n",
       "    </tr>\n",
       "    <tr>\n",
       "      <th>444</th>\n",
       "      <td>crisis  ahead in social sciences  a national b...</td>\n",
       "      <td>politics</td>\n",
       "      <td>politics</td>\n",
       "      <td>0.197026</td>\n",
       "      <td>0.112423</td>\n",
       "      <td>0.430555</td>\n",
       "      <td>0.109022</td>\n",
       "      <td>0.150974</td>\n",
       "    </tr>\n",
       "  </tbody>\n",
       "</table>\n",
       "<p>445 rows × 8 columns</p>\n",
       "</div>"
      ],
      "text/plain": [
       "                                                  text  category   Predict  \\\n",
       "0    us interest rates increased to 2% us interest ...  business  business   \n",
       "1    howard and blair tax pledge clash tony blair h...  politics  politics   \n",
       "2    soros group warns of kazakh close the open soc...  business  business   \n",
       "3    blair defends terror law changes the prime min...  politics  politics   \n",
       "4    rings of steel combat net attacks gambling is ...      tech      tech   \n",
       "..                                                 ...       ...       ...   \n",
       "440  howard attacks  pay later  budget tory leader ...  politics  politics   \n",
       "441  us insurer marsh cuts 2 500 jobs up to 2 500 j...  business  business   \n",
       "442  safin relieved at aussie recovery marat safin ...     sport     sport   \n",
       "443  moya emotional at davis cup win carlos moya de...     sport     sport   \n",
       "444  crisis  ahead in social sciences  a national b...  politics  politics   \n",
       "\n",
       "     business  entertainment  politics     sport      tech  \n",
       "0    0.961442       0.007894  0.009090  0.011239  0.010334  \n",
       "1    0.008783       0.002792  0.983496  0.002484  0.002445  \n",
       "2    0.373509       0.148785  0.242338  0.116593  0.118774  \n",
       "3    0.006823       0.006192  0.971711  0.005703  0.009571  \n",
       "4    0.048929       0.029801  0.069884  0.028032  0.823354  \n",
       "..        ...            ...       ...       ...       ...  \n",
       "440  0.022572       0.008461  0.953388  0.006511  0.009068  \n",
       "441  0.908349       0.021093  0.027764  0.019722  0.023072  \n",
       "442  0.022502       0.026503  0.016351  0.907125  0.027519  \n",
       "443  0.018405       0.035914  0.019324  0.904824  0.021533  \n",
       "444  0.197026       0.112423  0.430555  0.109022  0.150974  \n",
       "\n",
       "[445 rows x 8 columns]"
      ]
     },
     "execution_count": 23,
     "metadata": {},
     "output_type": "execute_result"
    }
   ],
   "source": [
    "with open('logisticRegression.pkl', 'rb') as model:\n",
    "    reload_model = pickle.load(model)\n",
    "preds = reload_model.predict_proba(test[\"text\"])\n",
    "\n",
    "p_predict = pipeline.predict_proba(test[\"text\"])\n",
    "f_predict = pipeline.predict(test[\"text\"])\n",
    "p_predict = pd.DataFrame(p_predict).reindex().rename(columns={0: \"business\",1: \"entertainment\",2: \"politics\",3: \"sport\",4: \"tech\"}, errors=\"raise\")\n",
    "f_predict = pd.DataFrame(f_predict).rename(columns={0: \"Predict\"}, errors=\"raise\")\n",
    "predict = pd.concat([test[\"text\"].reset_index(), test[\"category\"].reset_index(),f_predict.reindex(),p_predict], axis=1)\n",
    "predict.drop(\"index\", axis=1)"
   ]
  },
  {
   "cell_type": "code",
   "execution_count": null,
   "metadata": {
    "id": "lFauyMwxf0K3"
   },
   "outputs": [],
   "source": []
  },
  {
   "cell_type": "code",
   "execution_count": null,
   "metadata": {},
   "outputs": [],
   "source": []
  }
 ],
 "metadata": {
  "colab": {
   "collapsed_sections": [],
   "name": "Weekly-Project-BBC Articles.ipynb",
   "provenance": []
  },
  "kernelspec": {
   "display_name": "Python 3",
   "language": "python",
   "name": "python3"
  },
  "language_info": {
   "codemirror_mode": {
    "name": "ipython",
    "version": 3
   },
   "file_extension": ".py",
   "mimetype": "text/x-python",
   "name": "python",
   "nbconvert_exporter": "python",
   "pygments_lexer": "ipython3",
   "version": "3.8.5"
  }
 },
 "nbformat": 4,
 "nbformat_minor": 1
}
